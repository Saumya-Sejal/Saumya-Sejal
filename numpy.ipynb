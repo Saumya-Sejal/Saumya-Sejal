{
  "nbformat": 4,
  "nbformat_minor": 0,
  "metadata": {
    "colab": {
      "name": "numpy.ipynb",
      "provenance": [],
      "authorship_tag": "ABX9TyNUWzgEnk6P/cLOB+XhWc8a"
    },
    "kernelspec": {
      "name": "python3",
      "display_name": "Python 3"
    },
    "language_info": {
      "name": "python"
    }
  },
  "cells": [
    {
      "cell_type": "code",
      "execution_count": 2,
      "metadata": {
        "id": "uwir-SfNEe5W"
      },
      "outputs": [],
      "source": [
        "import numpy as np\n"
      ]
    },
    {
      "cell_type": "code",
      "source": [
        " from time import process_time\n",
        " "
      ],
      "metadata": {
        "id": "flqyrZX4E6wE"
      },
      "execution_count": 3,
      "outputs": []
    },
    {
      "cell_type": "code",
      "source": [
        "list=[i for i in range (10000)]\n",
        "start=process_time()\n",
        "list=[i+5 for i in range(10000)]\n",
        "end_time=process_time()\n",
        "print(end_time-start)"
      ],
      "metadata": {
        "colab": {
          "base_uri": "https://localhost:8080/"
        },
        "id": "Dualzto4FcA1",
        "outputId": "76bd8f39-67df-4a5b-d64d-c30163d0dde1"
      },
      "execution_count": 5,
      "outputs": [
        {
          "output_type": "stream",
          "name": "stdout",
          "text": [
            "0.0018080649999996368\n"
          ]
        }
      ]
    },
    {
      "cell_type": "code",
      "source": [
        "nparr=np.array([i for i in range(10000)])\n",
        "npst=process_time()\n",
        "nparr += 5\n",
        "npend=process_time()\n",
        "print(npend-npst)"
      ],
      "metadata": {
        "colab": {
          "base_uri": "https://localhost:8080/"
        },
        "id": "FMbgmAK4GGqT",
        "outputId": "2602b721-c413-4e90-fdb2-d4b6eea4ee89"
      },
      "execution_count": 9,
      "outputs": [
        {
          "output_type": "stream",
          "name": "stdout",
          "text": [
            "0.0001819290000000251\n"
          ]
        }
      ]
    },
    {
      "cell_type": "code",
      "source": [
        ""
      ],
      "metadata": {
        "id": "kG0in-WIGmr0"
      },
      "execution_count": null,
      "outputs": []
    },
    {
      "cell_type": "markdown",
      "source": [
        "creating Numpy array"
      ],
      "metadata": {
        "id": "AMzc1SUNHGOa"
      }
    },
    {
      "cell_type": "code",
      "source": [
        "np_arr=np.array([1,2,3,4,5])\n",
        "print(type(np_arr))\n",
        "print(np_arr)"
      ],
      "metadata": {
        "colab": {
          "base_uri": "https://localhost:8080/"
        },
        "id": "HBToPLFZHKdF",
        "outputId": "c67c434e-fd72-4af3-9032-36156af6e6e2"
      },
      "execution_count": 10,
      "outputs": [
        {
          "output_type": "stream",
          "name": "stdout",
          "text": [
            "<class 'numpy.ndarray'>\n",
            "[1 2 3 4 5]\n"
          ]
        }
      ]
    },
    {
      "cell_type": "markdown",
      "source": [
        "list as np array"
      ],
      "metadata": {
        "id": "9P-Eb5lrImjw"
      }
    },
    {
      "cell_type": "code",
      "source": [
        "list=[i*i for i in range(5)]\n",
        "print(list)\n",
        "list_to_nparr=np.array(list)\n",
        "print(list_to_nparr)"
      ],
      "metadata": {
        "colab": {
          "base_uri": "https://localhost:8080/"
        },
        "id": "F9K9yAq8IEpp",
        "outputId": "a803b477-336d-408e-e070-a73ad920e1ea"
      },
      "execution_count": 12,
      "outputs": [
        {
          "output_type": "stream",
          "name": "stdout",
          "text": [
            "[0, 1, 4, 9, 16]\n",
            "[ 0  1  4  9 16]\n"
          ]
        }
      ]
    },
    {
      "cell_type": "markdown",
      "source": [
        "multi dimensional np arrays have tuples--> for each row and each row as element of list . "
      ],
      "metadata": {
        "id": "fy-s9f3qJDvy"
      }
    },
    {
      "cell_type": "code",
      "source": [
        " b=np.array([(1,2,3,4,0),(5,6,7,8,9)])\n",
        " print(b)"
      ],
      "metadata": {
        "colab": {
          "base_uri": "https://localhost:8080/"
        },
        "id": "KJz90_h9Hox9",
        "outputId": "2ba8709f-3225-4fd0-b1f1-7d41408d0edc"
      },
      "execution_count": 14,
      "outputs": [
        {
          "output_type": "stream",
          "name": "stdout",
          "text": [
            "[[1 2 3 4 0]\n",
            " [5 6 7 8 9]]\n"
          ]
        }
      ]
    },
    {
      "cell_type": "code",
      "source": [
        "c=np.array([(1,2,3,4),(5,6,7,8)],dtype=float)\n",
        "print(c)"
      ],
      "metadata": {
        "colab": {
          "base_uri": "https://localhost:8080/"
        },
        "id": "cx-Qev4FI2Tn",
        "outputId": "5550d5cb-db74-4559-9bc6-80b29b3f8581"
      },
      "execution_count": 15,
      "outputs": [
        {
          "output_type": "stream",
          "name": "stdout",
          "text": [
            "[[1. 2. 3. 4.]\n",
            " [5. 6. 7. 8.]]\n"
          ]
        }
      ]
    },
    {
      "cell_type": "markdown",
      "source": [
        "error in string dtype ... only numerical values supported \n",
        "\n",
        "\n",
        "NOTE-default dtype=int"
      ],
      "metadata": {
        "id": "pLnas3qIJsPK"
      }
    },
    {
      "cell_type": "code",
      "source": [
        "\"\"\"c=np.array([(1,2,3,4),(5,6,7,8)],dtype=string)\n",
        "print(c)\"\"\""
      ],
      "metadata": {
        "colab": {
          "base_uri": "https://localhost:8080/",
          "height": 183
        },
        "id": "7UOSBfI5JjmR",
        "outputId": "78cd6513-c201-4416-e631-c21a7ddc0e2e"
      },
      "execution_count": 16,
      "outputs": [
        {
          "output_type": "error",
          "ename": "NameError",
          "evalue": "ignored",
          "traceback": [
            "\u001b[0;31m---------------------------------------------------------------------------\u001b[0m",
            "\u001b[0;31mNameError\u001b[0m                                 Traceback (most recent call last)",
            "\u001b[0;32m<ipython-input-16-a58b69cf7287>\u001b[0m in \u001b[0;36m<module>\u001b[0;34m()\u001b[0m\n\u001b[0;32m----> 1\u001b[0;31m \u001b[0mc\u001b[0m\u001b[0;34m=\u001b[0m\u001b[0mnp\u001b[0m\u001b[0;34m.\u001b[0m\u001b[0marray\u001b[0m\u001b[0;34m(\u001b[0m\u001b[0;34m[\u001b[0m\u001b[0;34m(\u001b[0m\u001b[0;36m1\u001b[0m\u001b[0;34m,\u001b[0m\u001b[0;36m2\u001b[0m\u001b[0;34m,\u001b[0m\u001b[0;36m3\u001b[0m\u001b[0;34m,\u001b[0m\u001b[0;36m4\u001b[0m\u001b[0;34m)\u001b[0m\u001b[0;34m,\u001b[0m\u001b[0;34m(\u001b[0m\u001b[0;36m5\u001b[0m\u001b[0;34m,\u001b[0m\u001b[0;36m6\u001b[0m\u001b[0;34m,\u001b[0m\u001b[0;36m7\u001b[0m\u001b[0;34m,\u001b[0m\u001b[0;36m8\u001b[0m\u001b[0;34m)\u001b[0m\u001b[0;34m]\u001b[0m\u001b[0;34m,\u001b[0m\u001b[0mdtype\u001b[0m\u001b[0;34m=\u001b[0m\u001b[0mstring\u001b[0m\u001b[0;34m)\u001b[0m\u001b[0;34m\u001b[0m\u001b[0;34m\u001b[0m\u001b[0m\n\u001b[0m\u001b[1;32m      2\u001b[0m \u001b[0mprint\u001b[0m\u001b[0;34m(\u001b[0m\u001b[0mc\u001b[0m\u001b[0;34m)\u001b[0m\u001b[0;34m\u001b[0m\u001b[0;34m\u001b[0m\u001b[0m\n",
            "\u001b[0;31mNameError\u001b[0m: name 'string' is not defined"
          ]
        }
      ]
    },
    {
      "cell_type": "code",
      "source": [
        "x=np.zeros((4,5))\n",
        "print(x)"
      ],
      "metadata": {
        "colab": {
          "base_uri": "https://localhost:8080/"
        },
        "id": "czecSS_nJplX",
        "outputId": "f56f1970-171d-4d1c-d709-ba9441013748"
      },
      "execution_count": 19,
      "outputs": [
        {
          "output_type": "stream",
          "name": "stdout",
          "text": [
            "[[0 0 0 0 0]\n",
            " [0 0 0 0 0]\n",
            " [0 0 0 0 0]\n",
            " [0 0 0 0 0]]\n"
          ]
        }
      ]
    },
    {
      "cell_type": "code",
      "source": [
        "x=np.zeros((4,5),dtype=int)\n",
        "print(x)"
      ],
      "metadata": {
        "colab": {
          "base_uri": "https://localhost:8080/"
        },
        "id": "0gUuSsQTK1pO",
        "outputId": "fd112800-d023-4c04-816f-9ee64b8f2a39"
      },
      "execution_count": 20,
      "outputs": [
        {
          "output_type": "stream",
          "name": "stdout",
          "text": [
            "[[0 0 0 0 0]\n",
            " [0 0 0 0 0]\n",
            " [0 0 0 0 0]\n",
            " [0 0 0 0 0]]\n"
          ]
        }
      ]
    },
    {
      "cell_type": "code",
      "source": [
        "y=np.ones((3,4))\n",
        "print(y)"
      ],
      "metadata": {
        "colab": {
          "base_uri": "https://localhost:8080/"
        },
        "id": "Vx8J0mQCMLJ_",
        "outputId": "f3ba7c41-fc51-4e84-a7bc-1bb0d169a55e"
      },
      "execution_count": 21,
      "outputs": [
        {
          "output_type": "stream",
          "name": "stdout",
          "text": [
            "[[1. 1. 1. 1.]\n",
            " [1. 1. 1. 1.]\n",
            " [1. 1. 1. 1.]]\n"
          ]
        }
      ]
    },
    {
      "cell_type": "code",
      "source": [
        "z=np.full((2,3),80)\n",
        "print(z)"
      ],
      "metadata": {
        "colab": {
          "base_uri": "https://localhost:8080/"
        },
        "id": "4oJDJkBSMRDM",
        "outputId": "f261967d-a78a-4fb3-ac4d-20df65d8ebbd"
      },
      "execution_count": 22,
      "outputs": [
        {
          "output_type": "stream",
          "name": "stdout",
          "text": [
            "[[80 80 80]\n",
            " [80 80 80]]\n"
          ]
        }
      ]
    },
    {
      "cell_type": "markdown",
      "source": [
        "creating identity matrix using numpy.(identity matrix is a square matrix ONLY)"
      ],
      "metadata": {
        "id": "kaBiMMrcMcza"
      }
    },
    {
      "cell_type": "code",
      "source": [
        "a=np.eye(5)\n",
        "print(a)"
      ],
      "metadata": {
        "colab": {
          "base_uri": "https://localhost:8080/"
        },
        "id": "HWLqdq67MZ2R",
        "outputId": "4545c6f2-a402-4cbf-eaca-e792f408b019"
      },
      "execution_count": 23,
      "outputs": [
        {
          "output_type": "stream",
          "name": "stdout",
          "text": [
            "[[1. 0. 0. 0. 0.]\n",
            " [0. 1. 0. 0. 0.]\n",
            " [0. 0. 1. 0. 0.]\n",
            " [0. 0. 0. 1. 0.]\n",
            " [0. 0. 0. 0. 1.]]\n"
          ]
        }
      ]
    },
    {
      "cell_type": "markdown",
      "source": [
        "arrays with random values. "
      ],
      "metadata": {
        "id": "Na_pJGbxMwwY"
      }
    },
    {
      "cell_type": "code",
      "source": [
        "b=np.random.random((3,4))\n",
        "print(b)"
      ],
      "metadata": {
        "colab": {
          "base_uri": "https://localhost:8080/"
        },
        "id": "9D_3roDvMrvH",
        "outputId": "5406ca3b-f978-4a9e-e1fe-d609917211e6"
      },
      "execution_count": 24,
      "outputs": [
        {
          "output_type": "stream",
          "name": "stdout",
          "text": [
            "[[0.3608628  0.02443305 0.65498903 0.18094151]\n",
            " [0.74407279 0.23310886 0.52291998 0.83556211]\n",
            " [0.8834633  0.26596878 0.06467077 0.48845389]]\n"
          ]
        }
      ]
    },
    {
      "cell_type": "markdown",
      "source": [
        "the values will always be between 0 to 1"
      ],
      "metadata": {
        "id": "9C1d6KlkNBoP"
      }
    },
    {
      "cell_type": "code",
      "source": [
        "import random"
      ],
      "metadata": {
        "id": "ozJFh1AaM_9C"
      },
      "execution_count": 25,
      "outputs": []
    },
    {
      "cell_type": "code",
      "source": [
        "c=np.random.randint(10,100,(3,7))\n",
        "print(c)"
      ],
      "metadata": {
        "colab": {
          "base_uri": "https://localhost:8080/"
        },
        "id": "d0Fxi8UyNMhL",
        "outputId": "b25d5530-52df-4c9b-8bdc-e8396e603747"
      },
      "execution_count": 27,
      "outputs": [
        {
          "output_type": "stream",
          "name": "stdout",
          "text": [
            "[[41 31 24 53 45 28 87]\n",
            " [38 36 21 18 92 79 60]\n",
            " [19 87 87 99 61 27 90]]\n"
          ]
        }
      ]
    },
    {
      "cell_type": "markdown",
      "source": [
        "using random module .\n",
        "first two args-->random module\n",
        "tuple arg--> order of matrix needed"
      ],
      "metadata": {
        "id": "ZezbqdqVNbOd"
      }
    },
    {
      "cell_type": "code",
      "source": [
        "c=np.random.randint(0,10,(3,3))\n",
        "print(c)"
      ],
      "metadata": {
        "colab": {
          "base_uri": "https://localhost:8080/"
        },
        "id": "TK3nfGbeNUus",
        "outputId": "32d572de-2cfe-480d-bfe2-862f20c3a679"
      },
      "execution_count": 28,
      "outputs": [
        {
          "output_type": "stream",
          "name": "stdout",
          "text": [
            "[[8 5 0]\n",
            " [5 7 4]\n",
            " [6 2 6]]\n"
          ]
        }
      ]
    },
    {
      "cell_type": "markdown",
      "source": [
        "array for evenly spaced values"
      ],
      "metadata": {
        "id": "LOf4FUKrODJq"
      }
    },
    {
      "cell_type": "code",
      "source": [
        "d=np.linspace(10,30,5)\n",
        "print(d)"
      ],
      "metadata": {
        "colab": {
          "base_uri": "https://localhost:8080/"
        },
        "id": "5XfdRKPUNtVd",
        "outputId": "ea07c442-a4bc-48b4-e168-75e7a43a85d7"
      },
      "execution_count": 29,
      "outputs": [
        {
          "output_type": "stream",
          "name": "stdout",
          "text": [
            "[10. 15. 20. 25. 30.]\n"
          ]
        }
      ]
    },
    {
      "cell_type": "markdown",
      "source": [
        "in the above eg. we get evenely spaced values between 10 and 30 and 5 values ."
      ],
      "metadata": {
        "id": "TgNTPw5nOPOI"
      }
    },
    {
      "cell_type": "code",
      "source": [
        "e=np.arange(10,30,5)\n",
        "print(e)"
      ],
      "metadata": {
        "colab": {
          "base_uri": "https://localhost:8080/"
        },
        "id": "he2SjXLdOMnU",
        "outputId": "b0b9b155-817c-4f79-9177-1ae9ab35f43b"
      },
      "execution_count": 30,
      "outputs": [
        {
          "output_type": "stream",
          "name": "stdout",
          "text": [
            "[10 15 20 25]\n"
          ]
        }
      ]
    },
    {
      "cell_type": "markdown",
      "source": [
        "the above function again gives evenly spaced values but the 3rd arg is step or increament . "
      ],
      "metadata": {
        "id": "LVhDXs_LOtIO"
      }
    },
    {
      "cell_type": "code",
      "source": [
        "e=np.arange(30,10,-5)\n",
        "print(e)"
      ],
      "metadata": {
        "colab": {
          "base_uri": "https://localhost:8080/"
        },
        "id": "51lv2TzCOl7G",
        "outputId": "393e2a5c-c579-4920-8b28-fe43e9f520dd"
      },
      "execution_count": 32,
      "outputs": [
        {
          "output_type": "stream",
          "name": "stdout",
          "text": [
            "[30 25 20 15]\n"
          ]
        }
      ]
    },
    {
      "cell_type": "code",
      "source": [
        ""
      ],
      "metadata": {
        "id": "f6ok5EjrPb6a"
      },
      "execution_count": null,
      "outputs": []
    },
    {
      "cell_type": "markdown",
      "source": [
        "ANALYSING NUMPY ARRAY"
      ],
      "metadata": {
        "id": "ySSuyluEQBGu"
      }
    },
    {
      "cell_type": "code",
      "source": [
        "arr=np.random.randint(10,90,(3,5))\n",
        "\n",
        "#array dimension\n",
        "print(arr.shape)\n",
        "\n",
        "#no. of dimension\n",
        "print(arr.ndim)\n",
        "\n",
        "#no. of elements\n",
        "print(arr.size)\n",
        "\n",
        "#checking data type of values in array\n",
        "print(arr.dtype)\n",
        "\n"
      ],
      "metadata": {
        "colab": {
          "base_uri": "https://localhost:8080/"
        },
        "id": "T-IZZaF-QD-3",
        "outputId": "12db53ea-3f69-4d77-b27b-e94b0222b09e"
      },
      "execution_count": 33,
      "outputs": [
        {
          "output_type": "stream",
          "name": "stdout",
          "text": [
            "(3, 5)\n",
            "2\n",
            "15\n",
            "int64\n"
          ]
        }
      ]
    },
    {
      "cell_type": "markdown",
      "source": [
        "MATHEMATICAL OPERATIONS ON NUMPY ARRAY"
      ],
      "metadata": {
        "id": "0dUe-CmKQsfC"
      }
    },
    {
      "cell_type": "code",
      "source": [
        "list1=[1,2,3,4,4,5]\n",
        "list2=[6,7,8,9,10]\n",
        "print(list1+list2)"
      ],
      "metadata": {
        "colab": {
          "base_uri": "https://localhost:8080/"
        },
        "id": "F6Won7FJQpOd",
        "outputId": "3040ec72-9294-4c3c-a92c-8e4e31fe6f81"
      },
      "execution_count": 34,
      "outputs": [
        {
          "output_type": "stream",
          "name": "stdout",
          "text": [
            "[1, 2, 3, 4, 4, 5, 6, 7, 8, 9, 10]\n"
          ]
        }
      ]
    },
    {
      "cell_type": "markdown",
      "source": [
        "lists are unioned or joined or concatenated"
      ],
      "metadata": {
        "id": "MmePzTFcThRz"
      }
    },
    {
      "cell_type": "code",
      "source": [
        "ar=np.random.randint(0,10,(3,3))\n",
        "arb=np.random.randint(10,20,(3,3))\n",
        "print(ar)\n",
        "print(arb)\n",
        "print(ar+arb) "
      ],
      "metadata": {
        "colab": {
          "base_uri": "https://localhost:8080/"
        },
        "id": "UrIKrKXITfkk",
        "outputId": "5d254feb-9aa9-47dd-f34c-a722e50a7d1a"
      },
      "execution_count": 36,
      "outputs": [
        {
          "output_type": "stream",
          "name": "stdout",
          "text": [
            "[[6 4 1]\n",
            " [8 3 3]\n",
            " [5 7 5]]\n",
            "[[14 13 13]\n",
            " [17 13 18]\n",
            " [18 14 17]]\n",
            "[[20 17 14]\n",
            " [25 16 21]\n",
            " [23 21 22]]\n"
          ]
        }
      ]
    },
    {
      "cell_type": "code",
      "source": [
        "print(ar*arb)"
      ],
      "metadata": {
        "colab": {
          "base_uri": "https://localhost:8080/"
        },
        "id": "ADnI6micUISx",
        "outputId": "c39c8a1f-f59d-4847-8f13-0d1f228c5a9c"
      },
      "execution_count": 37,
      "outputs": [
        {
          "output_type": "stream",
          "name": "stdout",
          "text": [
            "[[ 84  52  13]\n",
            " [136  39  54]\n",
            " [ 90  98  85]]\n"
          ]
        }
      ]
    },
    {
      "cell_type": "code",
      "source": [
        "print(ar-arb)"
      ],
      "metadata": {
        "colab": {
          "base_uri": "https://localhost:8080/"
        },
        "id": "emeuN8y2USLI",
        "outputId": "f7b0182d-d4f7-4eeb-d6b8-d170b231c653"
      },
      "execution_count": 38,
      "outputs": [
        {
          "output_type": "stream",
          "name": "stdout",
          "text": [
            "[[ -8  -9 -12]\n",
            " [ -9 -10 -15]\n",
            " [-13  -7 -12]]\n"
          ]
        }
      ]
    },
    {
      "cell_type": "code",
      "source": [
        "print(ar/arb)"
      ],
      "metadata": {
        "colab": {
          "base_uri": "https://localhost:8080/"
        },
        "id": "HTLiZ_jSUoH0",
        "outputId": "8a693589-7504-4dcc-8075-03e8963ac858"
      },
      "execution_count": 39,
      "outputs": [
        {
          "output_type": "stream",
          "name": "stdout",
          "text": [
            "[[0.42857143 0.30769231 0.07692308]\n",
            " [0.47058824 0.23076923 0.16666667]\n",
            " [0.27777778 0.5        0.29411765]]\n"
          ]
        }
      ]
    },
    {
      "cell_type": "markdown",
      "source": [
        "all these functions will be operating element wise . \n"
      ],
      "metadata": {
        "id": "pwhhagz8VFgX"
      }
    },
    {
      "cell_type": "code",
      "source": [
        "np.add(ar,arb)"
      ],
      "metadata": {
        "colab": {
          "base_uri": "https://localhost:8080/"
        },
        "id": "sY0wbby0Uq8-",
        "outputId": "dbfca949-ae02-41aa-c298-24a3016226e7"
      },
      "execution_count": 41,
      "outputs": [
        {
          "output_type": "execute_result",
          "data": {
            "text/plain": [
              "array([[20, 17, 14],\n",
              "       [25, 16, 21],\n",
              "       [23, 21, 22]])"
            ]
          },
          "metadata": {},
          "execution_count": 41
        }
      ]
    },
    {
      "cell_type": "code",
      "source": [
        "np.subtract(ar,arb)"
      ],
      "metadata": {
        "colab": {
          "base_uri": "https://localhost:8080/"
        },
        "id": "s82dyjBVVYop",
        "outputId": "8be891fa-8b1f-4a86-b0ba-e4aabf905c1b"
      },
      "execution_count": 42,
      "outputs": [
        {
          "output_type": "execute_result",
          "data": {
            "text/plain": [
              "array([[ -8,  -9, -12],\n",
              "       [ -9, -10, -15],\n",
              "       [-13,  -7, -12]])"
            ]
          },
          "metadata": {},
          "execution_count": 42
        }
      ]
    },
    {
      "cell_type": "code",
      "source": [
        "np.multiply(ar,arb)"
      ],
      "metadata": {
        "colab": {
          "base_uri": "https://localhost:8080/"
        },
        "id": "vk5R9kFqVfyK",
        "outputId": "060369f7-3bd9-4b24-b944-c40aa0e51c7b"
      },
      "execution_count": 43,
      "outputs": [
        {
          "output_type": "execute_result",
          "data": {
            "text/plain": [
              "array([[ 84,  52,  13],\n",
              "       [136,  39,  54],\n",
              "       [ 90,  98,  85]])"
            ]
          },
          "metadata": {},
          "execution_count": 43
        }
      ]
    },
    {
      "cell_type": "code",
      "source": [
        "np.divide(ar,arb)"
      ],
      "metadata": {
        "colab": {
          "base_uri": "https://localhost:8080/"
        },
        "id": "6bWqHsLyVk97",
        "outputId": "db7ab398-5519-44de-b032-ea42f0017179"
      },
      "execution_count": 44,
      "outputs": [
        {
          "output_type": "execute_result",
          "data": {
            "text/plain": [
              "array([[0.42857143, 0.30769231, 0.07692308],\n",
              "       [0.47058824, 0.23076923, 0.16666667],\n",
              "       [0.27777778, 0.5       , 0.29411765]])"
            ]
          },
          "metadata": {},
          "execution_count": 44
        }
      ]
    },
    {
      "cell_type": "markdown",
      "source": [
        "similar to element wise operations . "
      ],
      "metadata": {
        "id": "NIScstd8VqXl"
      }
    },
    {
      "cell_type": "markdown",
      "source": [
        "ARRAY MANUPULATION"
      ],
      "metadata": {
        "id": "0tVjPrbXV60j"
      }
    },
    {
      "cell_type": "code",
      "source": [
        "\n",
        "arr=np.random.randint(0,10,(2,3))\n",
        "print(arr.shape)\n",
        "print(arr)"
      ],
      "metadata": {
        "colab": {
          "base_uri": "https://localhost:8080/"
        },
        "id": "YLa9o5noVohk",
        "outputId": "7a964597-e63e-4d10-f9ab-7af375b2f3c9"
      },
      "execution_count": 49,
      "outputs": [
        {
          "output_type": "stream",
          "name": "stdout",
          "text": [
            "(2, 3)\n",
            "[[3 7 4]\n",
            " [2 8 1]]\n"
          ]
        }
      ]
    },
    {
      "cell_type": "code",
      "source": [
        "t_arr=np.transpose(arr)\n",
        "print(t_arr)\n",
        "print(t_arr.shape)"
      ],
      "metadata": {
        "colab": {
          "base_uri": "https://localhost:8080/"
        },
        "id": "iIcvfQgPV466",
        "outputId": "fdddd9f2-41f5-4904-dba1-ea0f98163751"
      },
      "execution_count": 54,
      "outputs": [
        {
          "output_type": "stream",
          "name": "stdout",
          "text": [
            "[[3 2]\n",
            " [7 8]\n",
            " [4 1]]\n",
            "(3, 2)\n"
          ]
        }
      ]
    },
    {
      "cell_type": "code",
      "source": [
        "t2=arr.T\n",
        "print(t2)\n",
        "print(t2.shape)"
      ],
      "metadata": {
        "colab": {
          "base_uri": "https://localhost:8080/"
        },
        "id": "3RKaXSBtWJP0",
        "outputId": "e77a5476-2373-4efe-f602-734b8eafa20b"
      },
      "execution_count": 56,
      "outputs": [
        {
          "output_type": "stream",
          "name": "stdout",
          "text": [
            "[[3 2]\n",
            " [7 8]\n",
            " [4 1]]\n",
            "(3, 2)\n"
          ]
        }
      ]
    },
    {
      "cell_type": "code",
      "source": [
        "#reshaping the array\n",
        "\n",
        "a=np.random.randint(0,10,(2,3))\n",
        "print(a)\n",
        "print(a.shape)"
      ],
      "metadata": {
        "colab": {
          "base_uri": "https://localhost:8080/"
        },
        "id": "4Uul7vUtWLQ7",
        "outputId": "d5b85a20-6bc7-4a27-cfc9-e922902f542f"
      },
      "execution_count": 57,
      "outputs": [
        {
          "output_type": "stream",
          "name": "stdout",
          "text": [
            "[[4 1 6]\n",
            " [8 4 1]]\n",
            "(2, 3)\n"
          ]
        }
      ]
    },
    {
      "cell_type": "code",
      "source": [
        "b=a.reshape(3,2)\n",
        "print(b)"
      ],
      "metadata": {
        "colab": {
          "base_uri": "https://localhost:8080/"
        },
        "id": "ItfN5dHRW5J2",
        "outputId": "aee2363a-49c3-46ea-e4e6-5faa47eb79e4"
      },
      "execution_count": 58,
      "outputs": [
        {
          "output_type": "stream",
          "name": "stdout",
          "text": [
            "[[4 1]\n",
            " [6 8]\n",
            " [4 1]]\n"
          ]
        }
      ]
    },
    {
      "cell_type": "markdown",
      "source": [
        "reshaping is one of the most important func in ML . rehspaing is not same as transpose , it just reshapes . \n"
      ],
      "metadata": {
        "id": "nmWbOL7EXDH5"
      }
    },
    {
      "cell_type": "code",
      "source": [
        ""
      ],
      "metadata": {
        "id": "b92x8ru8W_AM"
      },
      "execution_count": null,
      "outputs": []
    }
  ]
}